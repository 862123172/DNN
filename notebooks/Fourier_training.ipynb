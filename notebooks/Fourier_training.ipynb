{
 "cells": [
  {
   "cell_type": "code",
   "execution_count": 1,
   "metadata": {},
   "outputs": [],
   "source": [
    "import torchvision\n",
    "from torchvision import transforms\n",
    "from torch.utils.data import DataLoader\n",
    "import torch\n",
    "import sys"
   ]
  },
  {
   "cell_type": "code",
   "execution_count": 2,
   "metadata": {},
   "outputs": [],
   "source": [
    "src_path = '/Users/kirillsafronov/Documents/Python/Lab/DNN'\n",
    "if src_path not in sys.path:\n",
    "    sys.path.append(src_path)"
   ]
  },
  {
   "cell_type": "code",
   "execution_count": 3,
   "metadata": {},
   "outputs": [],
   "source": [
    "from src.utils import set_det_pos, get_detector_imgs\n",
    "from src.DNN import Fourier_DNN, Trainer, new_Fourier_DNN"
   ]
  },
  {
   "cell_type": "code",
   "execution_count": 4,
   "metadata": {},
   "outputs": [],
   "source": [
    "# Загрузка датасета\n",
    "BATCH_SIZE = 32\n",
    "IMG_SIZE = 28 * 3\n",
    "N_pixels = 200\n",
    "PADDING = (N_pixels - IMG_SIZE) // 2\n",
    "\n",
    "transform = transforms.Compose([transforms.ToTensor(), transforms.Resize((IMG_SIZE,IMG_SIZE))])\n",
    "train_dataset = torchvision.datasets.MNIST(\"./data\", train=True, transform=transform, download=True)\n",
    "val_dataset = torchvision.datasets.MNIST(\"./data\", train=False, transform=transform, download=True)\n",
    "train_dataloader = DataLoader(dataset=train_dataset, batch_size=BATCH_SIZE, shuffle=True)\n",
    "val_dataloader = DataLoader(dataset=val_dataset, batch_size=BATCH_SIZE, shuffle=False)"
   ]
  },
  {
   "cell_type": "code",
   "execution_count": 5,
   "metadata": {},
   "outputs": [
    {
     "name": "stdout",
     "output_type": "stream",
     "text": [
      "Using device: cpu\n"
     ]
    }
   ],
   "source": [
    "device = torch.device('cuda' if torch.cuda.is_available() else 'cpu')\n",
    "print('Using device:', device)"
   ]
  },
  {
   "cell_type": "code",
   "execution_count": 6,
   "metadata": {},
   "outputs": [],
   "source": [
    "pixel_size = 10e-6 #m\n",
    "wl = 532e-9 #m \n",
    "distance_between_layers = 5e-3"
   ]
  },
  {
   "cell_type": "code",
   "execution_count": 7,
   "metadata": {},
   "outputs": [],
   "source": [
    "det_size = 20\n",
    "det_pad = (N_pixels - 7*det_size)//2\n",
    "detector_pos = set_det_pos(det_size, det_pad, det_pad)"
   ]
  },
  {
   "cell_type": "code",
   "execution_count": 8,
   "metadata": {},
   "outputs": [],
   "source": [
    "labels_image_tensors = get_detector_imgs(detector_pos, N_pixels).to(device)"
   ]
  },
  {
   "cell_type": "code",
   "execution_count": 9,
   "metadata": {},
   "outputs": [],
   "source": [
    "def custom_loss(imgs, labels):\n",
    "    full_int = imgs.sum(dim=(1,2))\n",
    "    loss = 1 - (imgs*labels_image_tensors[labels]).sum(dim=(1,2))/full_int\n",
    "    return loss.mean()"
   ]
  },
  {
   "cell_type": "code",
   "execution_count": 10,
   "metadata": {},
   "outputs": [],
   "source": [
    "f = 100e-3\n",
    "model = new_Fourier_DNN(5, wl, N_pixels, pixel_size, distance_between_layers, f).to(device)\n",
    "#criterion = torch.nn.MSELoss(reduction='sum').to(device)\n",
    "#criterion = torch.nn.CrossEntropyLoss().to(device)\n",
    "criterion = custom_loss\n",
    "optimizer = torch.optim.Adam(model.parameters(), lr=0.005)"
   ]
  },
  {
   "cell_type": "code",
   "execution_count": 11,
   "metadata": {},
   "outputs": [],
   "source": [
    "trainer = Trainer(model, detector_pos, PADDING, device) "
   ]
  },
  {
   "cell_type": "code",
   "execution_count": 12,
   "metadata": {},
   "outputs": [
    {
     "name": "stderr",
     "output_type": "stream",
     "text": [
      "100%|██████████| 1875/1875 [19:34<00:00,  1.60it/s]\n",
      "100%|██████████| 313/313 [01:34<00:00,  3.31it/s]\n",
      "100%|██████████| 1875/1875 [19:43<00:00,  1.58it/s]\n",
      "100%|██████████| 313/313 [01:34<00:00,  3.32it/s]"
     ]
    },
    {
     "name": "stdout",
     "output_type": "stream",
     "text": [
      "Epoch=1 train loss=0.4935, test loss=0.4792\n",
      "train acc=0.8167, test acc=0.8339\n",
      "-----------------------\n"
     ]
    },
    {
     "name": "stderr",
     "output_type": "stream",
     "text": [
      "\n"
     ]
    }
   ],
   "source": [
    "res = trainer.train(criterion, optimizer, train_dataloader, val_dataloader, epochs = 2)"
   ]
  },
  {
   "cell_type": "code",
   "execution_count": null,
   "metadata": {},
   "outputs": [],
   "source": []
  }
 ],
 "metadata": {
  "kernelspec": {
   "display_name": "Python 3",
   "language": "python",
   "name": "python3"
  },
  "language_info": {
   "codemirror_mode": {
    "name": "ipython",
    "version": 3
   },
   "file_extension": ".py",
   "mimetype": "text/x-python",
   "name": "python",
   "nbconvert_exporter": "python",
   "pygments_lexer": "ipython3",
   "version": "3.7.6"
  }
 },
 "nbformat": 4,
 "nbformat_minor": 4
}
